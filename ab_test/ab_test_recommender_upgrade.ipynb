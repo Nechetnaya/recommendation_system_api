{
 "cells": [
  {
   "cell_type": "markdown",
   "id": "9c9ebaee-99b2-4a63-8c27-0639e8109506",
   "metadata": {},
   "source": [
    "# Summary: A/B-тест улучшенной рекомендательной модели\n",
    "\n",
    "### Цель  \n",
    "Проверить, улучшает ли новая рекомендательная модель (CatBoost + LightGCN + трансформерные признаки) пользовательскую вовлеченность по сравнению с текущей моделью (CatBoost + базовые признаки).\n",
    "\n",
    "---\n",
    "\n",
    "### Основная метрика:  \n",
    "**Hitrate@5** — доля рекомендаций, получивших лайк в течение часа после показа.\n",
    "\n",
    "| Группа      | Hitrate (по бакетам) |\n",
    "|-------------|----------------------|\n",
    "| Control     | 0.7067               |\n",
    "| Test        | 0.7198               |\n",
    "| **Δ (приращение)** | **+1.31 п.п.**         |\n",
    "| **p-value (t-test)** | **9.1e-11**            |\n",
    "\n",
    " **Различие статистически значимо.**\n",
    "\n",
    "---\n",
    "\n",
    "### Дополнительные метрики:\n",
    "\n",
    "#### 1. **Доля пользователей, поставивших хотя бы 1 лайк:**\n",
    "- **Test:** 89.82%\n",
    "- **Control:** 89.13%\n",
    "- **Δ:** +0.69 п.п.\n",
    "- **Z-test:** p = 0.0045 → **значимое различие**\n",
    "\n",
    "#### 2. **Количество лайков на пользователя:**\n",
    "- **Test:** 4.00  \n",
    "- **Control:** 3.91  \n",
    "- Распределение ненормальное (Shapiro p < 0.001)  \n",
    "- **Mann–Whitney U-тест:** p = 0.0017 → **значимое различие**\n",
    "\n",
    "---\n",
    "\n",
    "### Вывод:\n",
    "\n",
    "Улучшенная модель рекомендаций **значимо повышает вовлеченность пользователей**:\n",
    "- Hitrate вырос на **1.31 п.п.**\n",
    "- **Больше пользователей** взаимодействуют с контентом\n",
    "- **Общее число лайков на пользователя** также увеличилось\n",
    "\n",
    "**Рекомендация:** запуск в продакшн и мониторинг устойчивости эффекта.\n"
   ]
  },
  {
   "cell_type": "markdown",
   "id": "7a2d52d6-eeaf-4be8-8641-ba810510426f",
   "metadata": {
    "jp-MarkdownHeadingCollapsed": true,
    "tags": []
   },
   "source": [
    "## Введение и гипотеза\n",
    "\n",
    "**Цель**  \n",
    "Проверить, приводит ли добавление новых признаков (features) из модели LightGCN и трансформера к улучшению качества рекомендательной системы по сравнению с текущей моделью на CatBoost с ручными фичами.\n",
    "\n",
    "**Контрольная модель**  \n",
    "Модель: CatBoost\n",
    "Фичи: ручные признаки пользователей и постов\n",
    "ROC-AUC: 0.77\n",
    "HitRate@5: 0.706\n",
    "STD (HitRate): 3.13\n",
    "\n",
    "**Тестовая модель**   \n",
    "Модель: CatBoost\n",
    "Фичи: ручные + LightGCN эмбеддинги + трансформерные признаки\n",
    "ROC-AUC: 0.812\n",
    "HitRate@5: 0.715\n",
    "\n",
    "**Гипотеза**  \n",
    "Основная гипотеза:\n",
    "\n",
    "Добавление новых фичей в модель рекомендаций приведёт к росту доли успешных рекомендаций на 1,7%, т.е. увеличение HitRate@5 с 0.706 до 0.718.\n",
    "\n",
    "**Метрики**  \n",
    "Основная метрика:\n",
    "HitRate@5 – доля показов, в которых пользователь поставил лайк хотя бы одному из рекомендованных 5 постов.\n",
    "\n",
    "Дополнительные метрики:\n",
    "Доля пользователей, поставивших хотя бы один лайк\n",
    "\n",
    "Среднее количество лайков на пользователя\n",
    "\n",
    "**Ожидаемые бизнес-эффекты**  \n",
    "Рост вовлеченности пользователей – больше взаимодействий с контентом (лайков), значит, пользователи проводят больше времени в продукте.\n",
    "\n",
    "Повышение удовлетворённости от рекомендаций – более релевантные посты стимулируют лояльность."
   ]
  },
  {
   "cell_type": "markdown",
   "id": "14305575-32d9-40b1-8898-64d1466d7996",
   "metadata": {
    "tags": []
   },
   "source": [
    "### Дизайн эксперимента \n",
    "**Рандомизация**  \n",
    "Пользователи были случайным образом распределены на контрольную и тестовую группы по user_id.\n",
    "Чтобы исключить смещение и обеспечить стабильность, была использована детерминированная хеш-функция:\n",
    "\n",
    "```python\n",
    "\n",
    "import hashlib\n",
    "\n",
    "def get_exp_group(user_id: int, salt: str = \"experiment_1\") -> str:\n",
    "    key = f\"{salt}_{user_id}\"\n",
    "    hash_val = hashlib.md5(key.encode()).hexdigest()\n",
    "    num = int(hash_val[:8], 16) / 0xFFFFFFFF\n",
    "    return \"control\" if num < 0.5 else \"test\"\n",
    "```\n",
    "Таким образом:\n",
    "\n",
    "Пользователь с данным user_id всегда попадает в одну и ту же группу\n",
    "\n",
    "Размер групп контролируется: по 50% в control и test\n",
    "\n",
    "\n",
    "**Проверка SRM (Sample Ratio Mismatch)**  \n",
    "Перед началом анализа провели SRM-тест — проверку, что количество пользователей в контрольной и тестовой группах соответствует ожидаемым пропорциям (50/50).\n",
    "Для этого использовали χ²-критерий (хи-квадрат) на количество уникальных пользователей \n",
    "\n",
    "\n",
    "**Тест и мощность**\n",
    "\n",
    "α (уровень значимости) = 0.05\n",
    "\n",
    "MDE (минимально детектируемый эффект) = 0.01 \n",
    "\n",
    "Baseline метрика (HitRate@5) = 0.706\n",
    "\n",
    "Тестовая метрика (ожидаемая) = 0.718\n",
    "\n",
    "Период: 2 недели\n",
    "\n",
    "Пользователей в каждой группе = 30 000\n",
    "\n",
    "Тест: бакетный t-test (есть зависимые показы одним и тем же пользователям)\n",
    "\n",
    "Бакеты: 100 (т.е. анализ будет на агрегированных бакетах, не на уровне пользователей)  \n",
    "→ 30 000 / 100 = 300 пользователей на бакет в среднем\n",
    "\n",
    "Поскольку мы используем бакетный t-test, то рассчитываем мощность по разности средних двух выборок:  \n",
    "Каждая точка — это hitrate в бакете (средняя доля лайков на бакет)  \n",
    "Всего 100 точек на группу  \n",
    "\n",
    "**Мощность теста: 0.77**\n"
   ]
  },
  {
   "cell_type": "code",
   "execution_count": 34,
   "id": "a069bb8d-9a6c-483f-a4af-d8923956d2fe",
   "metadata": {},
   "outputs": [
    {
     "name": "stdout",
     "output_type": "stream",
     "text": [
      "Power: 0.770\n"
     ]
    }
   ],
   "source": [
    "# расчет мощности\n",
    "\n",
    "from statsmodels.stats.power import TTestIndPower\n",
    "\n",
    "effect_size = (0.718 - 0.706) / 0.0313  \n",
    "alpha = 0.05\n",
    "nobs = 100 \n",
    "\n",
    "power_analysis = TTestIndPower()\n",
    "power = power_analysis.power(effect_size=effect_size, nobs1=nobs, alpha=alpha, ratio=1.0)\n",
    "print(f\"Power: {power:.3f}\")\n"
   ]
  },
  {
   "cell_type": "markdown",
   "id": "9f309d2d-ecdc-4376-8720-779a215d08b6",
   "metadata": {},
   "source": [
    "## Проверка качества дизайна эксперимента (AA-тест)\n",
    "Перед запуском A/B-теста мы провели AA-тест на синтетических данных\n",
    "\n",
    "Проверяем:\n",
    "\n",
    "Корректность рандомизации (группы не отличаются между собой),\n",
    "\n",
    "Уровень ложноположительных результатов (α) — должен быть близок к заявленному значению (0.05),\n",
    "\n",
    "Мощность теста (1 − β) — насколько чувствителен эксперимент к ожидаемому приросту метрики (в нашем случае 0,882 при +1.4 п.п. по HitRate@5).\n",
    "\n",
    "**Резюме раздела**:\n",
    "- AA-тест — ложноположительный уровень (alpha): 0.050\n",
    "- Мощность теста при MDE=0.014: 0.891"
   ]
  },
  {
   "cell_type": "code",
   "execution_count": 35,
   "id": "e95058c1-8f8f-44ce-b955-0912835e25dd",
   "metadata": {},
   "outputs": [
    {
     "name": "stdout",
     "output_type": "stream",
     "text": [
      "AA-тест — ложноположительный уровень (alpha): 0.050\n"
     ]
    }
   ],
   "source": [
    "import numpy as np\n",
    "import pandas as pd\n",
    "from scipy.stats import ttest_ind\n",
    "\n",
    "N_USERS = 30_000          # Пользователей в каждой группе\n",
    "N_BUCKETS = 100           # Бакеты\n",
    "MDE = 0.012              # Минимально детектируемый эффект (1.4 п.п.)\n",
    "BASE_HITRATE = 0.706      # Базовый HitRate@5\n",
    "N_EXPERIMENTS = 10000      # Кол-во симуляций AA-теста\n",
    "ALPHA = 0.05              # Уровень значимости\n",
    "\n",
    "def simulate_group(hitrate, n_users=N_USERS, n_buckets=N_BUCKETS):\n",
    "    impressions_per_bucket = n_users // n_buckets\n",
    "    data = []\n",
    "    for bucket in range(n_buckets):\n",
    "        hits = np.random.binomial(1, hitrate, size=impressions_per_bucket)\n",
    "        data.append({\n",
    "            'bucket': bucket,\n",
    "            'hitrate': hits.mean(),\n",
    "            'impressions': impressions_per_bucket\n",
    "        })\n",
    "    return pd.DataFrame(data)\n",
    "\n",
    "\n",
    "p_values = []\n",
    "\n",
    "for _ in range(N_EXPERIMENTS):\n",
    "    control = simulate_group(BASE_HITRATE)\n",
    "    test = simulate_group(BASE_HITRATE) \n",
    "    stat, p = ttest_ind(control['hitrate'], test['hitrate'])\n",
    "    p_values.append(p)\n",
    "\n",
    "p_values = np.array(p_values)\n",
    "alpha_error = (p_values < ALPHA).mean()\n",
    "print(f\"AA-тест — ложноположительный уровень (alpha): {alpha_error:.3f}\")\n"
   ]
  },
  {
   "cell_type": "code",
   "execution_count": null,
   "id": "88a5ac9f-4977-45c3-9464-d452037e9753",
   "metadata": {},
   "outputs": [
    {
     "name": "stdout",
     "output_type": "stream",
     "text": [
      "Мощность теста при MDE=0.012: 0.891\n"
     ]
    }
   ],
   "source": [
    "p_values_mde = []\n",
    "\n",
    "for _ in range(N_EXPERIMENTS):\n",
    "    control = simulate_group(BASE_HITRATE)\n",
    "    test = simulate_group(BASE_HITRATE + MDE) \n",
    "    stat, p = ttest_ind(control['hitrate'], test['hitrate'])\n",
    "    p_values_mde.append(p)\n",
    "\n",
    "p_values_mde = np.array(p_values_mde)\n",
    "power = (p_values_mde < ALPHA).mean()\n",
    "print(f\"Мощность теста при MDE={MDE:.3f}: {power:.3f}\")\n"
   ]
  },
  {
   "cell_type": "markdown",
   "id": "a6d861db-0f82-42db-81a8-045641986196",
   "metadata": {},
   "source": [
    "## Анализ результатов теста"
   ]
  },
  {
   "cell_type": "markdown",
   "id": "50859fe3-efa4-4e58-baa2-d52842446812",
   "metadata": {},
   "source": [
    "### Проверка корректности рандомизации (SRM-check)\n",
    "1. Удаление пользователей, попавших в обе группы\n",
    "Перед анализом необходимо убедиться, что каждый пользователь попал только в одну экспериментальную группу. Иначе результаты теста могут быть искажены.\n",
    "2. Проверка SRM (Sample Ratio Mismatch)\n",
    "\n",
    "**Резюме раздела**:\n",
    "- Пользователи, попавшие в обе группы, обнаружены (4 пользователя) и исключены.\n",
    "- Распределение по группам соответствует ожиданиям (SRM не нарушен, p-value: 0.395).\n",
    "- Тест можно считать корректно рандомизированным."
   ]
  },
  {
   "cell_type": "code",
   "execution_count": 24,
   "id": "8b72a65c-1b14-483e-9b21-d504e77cd704",
   "metadata": {},
   "outputs": [
    {
     "name": "stdout",
     "output_type": "stream",
     "text": [
      "(193295, 4)    user_id exp_group             recommendations   timestamp\n",
      "0   128381   control  [3644 4529 4704 5294 4808]  1654030803\n",
      "1   146885      test  [1399 1076  797 7015 5942]  1654030811\n",
      "2    50948      test  [2315 3037 1861 6567 4093]  1654030825\n",
      "3    37703      test  [2842 1949  162 1588 6794]  1654030826\n",
      "4    14661      test  [2395 5881 5648 3417  673]  1654030829\n"
     ]
    }
   ],
   "source": [
    "recommendations = pd.read_csv('views.csv')\n",
    "print(recommendations.shape, recommendations.head())"
   ]
  },
  {
   "cell_type": "code",
   "execution_count": 25,
   "id": "70c4c075-0cb2-4a4b-916b-996e6516bbd6",
   "metadata": {},
   "outputs": [
    {
     "name": "stdout",
     "output_type": "stream",
     "text": [
      "(230176, 3)    user_id  post_id   timestamp\n",
      "0   128381     4704  1654030804\n",
      "1   146885     1399  1654030816\n",
      "2    50948     2315  1654030828\n",
      "3    14661      673  1654030831\n",
      "4    37703     1588  1654030833\n"
     ]
    }
   ],
   "source": [
    "likes = pd.read_csv('likes.csv')\n",
    "print(likes.shape, likes.head())"
   ]
  },
  {
   "cell_type": "code",
   "execution_count": 27,
   "id": "6c85c268-722f-46f0-a692-910c29ff5367",
   "metadata": {},
   "outputs": [
    {
     "name": "stdout",
     "output_type": "stream",
     "text": [
      "       user_id  exp_group\n",
      "10071    25623          2\n",
      "20633    55788          2\n",
      "54475   142283          2\n",
      "57065   148670          2\n"
     ]
    }
   ],
   "source": [
    "# Найдём user_id, которые встречаются в более чем одной группе\n",
    "\n",
    "multi_group_users = (\n",
    "    recommendations.groupby('user_id', as_index=False)['exp_group']\n",
    "    .nunique()\n",
    "    .query(\"exp_group > 1\")\n",
    ")\n",
    "\n",
    "print(multi_group_users)\n"
   ]
  },
  {
   "cell_type": "code",
   "execution_count": 29,
   "id": "889e22a2-e172-487a-9e3d-e6dac5b1e25a",
   "metadata": {},
   "outputs": [],
   "source": [
    "recommendations = recommendations[~recommendations['user_id'].isin(multi_group_users)]"
   ]
  },
  {
   "cell_type": "code",
   "execution_count": 31,
   "id": "041e2eb3-44b3-43bc-9175-f58a8c04a524",
   "metadata": {},
   "outputs": [
    {
     "data": {
      "text/plain": [
       "exp_group\n",
       "control    32354\n",
       "test       32663\n",
       "Name: user_id, dtype: int64"
      ]
     },
     "execution_count": 31,
     "metadata": {},
     "output_type": "execute_result"
    }
   ],
   "source": [
    "recommendations.groupby('exp_group').user_id.nunique()"
   ]
  },
  {
   "cell_type": "code",
   "execution_count": 33,
   "id": "7c5d454f-eb22-45b0-bef3-a28ba0a443a4",
   "metadata": {},
   "outputs": [
    {
     "name": "stdout",
     "output_type": "stream",
     "text": [
      "p-value: 0.3945716916463896\n"
     ]
    }
   ],
   "source": [
    "# Проверка деления на группы SRM\n",
    "\n",
    "from scipy.stats import chi2_contingency\n",
    "\n",
    "observed = recommendations.groupby('exp_group').user_id.nunique().to_list()\n",
    "\n",
    "total = sum(observed)\n",
    "expected = [total / 2, total / 2]\n",
    "\n",
    "# χ² тест\n",
    "chi2, p_value, _, _ = chi2_contingency([observed, expected])\n",
    "\n",
    "print(\"p-value:\", p_value)\n"
   ]
  },
  {
   "cell_type": "markdown",
   "id": "8b60fe23-f952-4bb7-b96a-a2abaaeb77d1",
   "metadata": {},
   "source": [
    "## Анализ дополнительных метрик\n",
    "**Доля пользователей, поставивших хотя бы один лайк**\n",
    "\n",
    "share_test = 0.8982    \n",
    "share_control = 0.8913 \n",
    "\n",
    "*z-тест для пропорций:*  \n",
    "\n",
    "Z-stat: 2.844  \n",
    "P-value: 0.0045  \n",
    "\n",
    "Вывод: Различие между группами статистически значимо на уровне значимости 0.05. Это означает, что в тестовой группе больше пользователей проявили активность (поставили хотя бы один лайк)\n",
    "\n",
    "**Количество лайков на одного пользователя**\n",
    "\n",
    "likes_test = 4  \n",
    "likes_control = 3.91\n",
    "\n",
    "Распределения лайков на пользователя в обеих группах оказались асимметричными, с выраженным правым хвостом.\n",
    "Даже после логарифмического преобразования (log(1 + x)) данные не соответствуют нормальному распределению по Shapiro–Wilk тесту (p-value < 0.05):\n",
    "\n",
    "Shapiro test (log likes):\n",
    "Control group: p ≈ 0.0000\n",
    "Test group:    p ≈ 0.0000\n",
    "\n",
    "\n",
    "*Mann–Whitney U-тест:*\n",
    "\n",
    "stat: 429294691   \n",
    "P-value: 0.0017\n",
    "\n",
    "Вывод: Различие статистически значимо на уровне значимости 0.05, что указывает на большее число лайков на пользователя в тестовой группе."
   ]
  },
  {
   "cell_type": "code",
   "execution_count": 31,
   "id": "a951e9ec-7242-42d0-bc56-4f53846249cd",
   "metadata": {},
   "outputs": [],
   "source": [
    "# посчитаем скольк пользователей попали в аб тест, сколько их них лайкали посты\n",
    "\n",
    "users_ab_count = recommendations.user_id.nunique()"
   ]
  },
  {
   "cell_type": "code",
   "execution_count": 32,
   "id": "0fcb33ce-8245-444f-a218-3e8cb8a45645",
   "metadata": {},
   "outputs": [
    {
     "data": {
      "text/plain": [
       "0.8947595096365343"
      ]
     },
     "execution_count": 32,
     "metadata": {},
     "output_type": "execute_result"
    }
   ],
   "source": [
    "users = recommendations.user_id.unique()\n",
    "users_likes_count = likes[likes.user_id.isin(users)].user_id.nunique()\n",
    "users_likes_count/users_ab_count"
   ]
  },
  {
   "cell_type": "code",
   "execution_count": 35,
   "id": "4185a15e-3652-40ad-b0a6-316c000e7fd0",
   "metadata": {},
   "outputs": [
    {
     "name": "stdout",
     "output_type": "stream",
     "text": [
      "Test group: 0.8982, Control group: 0.8913\n"
     ]
    }
   ],
   "source": [
    "# Доля пользователей с хотя бы 1 лайком\n",
    "users_test = recommendations[recommendations['exp_group'] == 'test'].user_id.unique()\n",
    "users_control = recommendations[recommendations['exp_group'] == 'control'].user_id.unique()\n",
    "\n",
    "users_likes_test = likes[likes.user_id.isin(users_test)].user_id.nunique()\n",
    "users_likes_control = likes[likes.user_id.isin(users_control)].user_id.nunique()\n",
    "\n",
    "share_test = users_likes_test / len(users_test) if len(users_test) > 0 else 0\n",
    "share_control = users_likes_control / len(users_control) if len(users_control) > 0 else 0\n",
    "\n",
    "print(f\"Test group: {share_test:.4f}, Control group: {share_control:.4f}\")\n"
   ]
  },
  {
   "cell_type": "code",
   "execution_count": 36,
   "id": "2ec577d2-9fb1-4e74-b1dc-afced99d5d42",
   "metadata": {},
   "outputs": [
    {
     "name": "stdout",
     "output_type": "stream",
     "text": [
      "Z-stat: 2.844\n",
      "P-value: 0.0045\n",
      "❗ Различие статистически значимо.\n"
     ]
    }
   ],
   "source": [
    "# z-тест для пропорций \n",
    "\n",
    "from statsmodels.stats.proportion import proportions_ztest\n",
    "\n",
    "# Число пользователей с хотя бы одним лайком\n",
    "successes = [users_likes_test, users_likes_control]\n",
    "\n",
    "# Общее число пользователей в каждой группе\n",
    "n_obs = [len(users_test), len(users_control)]\n",
    "\n",
    "# z-тест\n",
    "z_stat, p_val = proportions_ztest(count=successes, nobs=n_obs)\n",
    "\n",
    "print(f\"Z-stat: {z_stat:.3f}\")\n",
    "print(f\"P-value: {p_val:.4f}\")\n",
    "\n",
    "if p_val < 0.05:\n",
    "    print(\"❗ Различие статистически значимо.\")\n",
    "else:\n",
    "    print(\"✅ Нет статистически значимого различия.\")\n"
   ]
  },
  {
   "cell_type": "code",
   "execution_count": 41,
   "id": "e12ed524-9f4e-489c-95ff-feeb75a48569",
   "metadata": {},
   "outputs": [],
   "source": [
    "# Число лайков на пользователя\n",
    "likes_per_user_test = likes[likes.user_id.isin(users_test)] \\\n",
    "    .groupby('user_id', as_index=False) \\\n",
    "    .agg(likes_count=('post_id', 'count'))\n",
    "\n",
    "likes_per_user_control = likes[likes.user_id.isin(users_control)] \\\n",
    "    .groupby('user_id', as_index=False) \\\n",
    "    .agg(likes_count=('post_id', 'count'))\n"
   ]
  },
  {
   "cell_type": "code",
   "execution_count": 42,
   "id": "ee0966d8-7dae-4bb1-8472-a020bf695ebd",
   "metadata": {},
   "outputs": [
    {
     "data": {
      "image/png": "[encoded data removed]",
      "text/plain": [
       "<Figure size 864x360 with 2 Axes>"
      ]
     },
     "metadata": {
      "needs_background": "light"
     },
     "output_type": "display_data"
    }
   ],
   "source": [
    "import matplotlib.pyplot as plt\n",
    "import seaborn as sns\n",
    "\n",
    "plt.figure(figsize=(12, 5))\n",
    "\n",
    "# Control\n",
    "plt.subplot(1, 2, 1)\n",
    "sns.histplot(likes_per_user_control['likes_count'], bins=30, kde=False, color='blue')\n",
    "plt.title('Control group')\n",
    "plt.xlabel('Likes per user')\n",
    "plt.ylabel('Count')\n",
    "\n",
    "# Test\n",
    "plt.subplot(1, 2, 2)\n",
    "sns.histplot(likes_per_user_test['likes_count'], bins=30, kde=False, color='green')\n",
    "plt.title('Test group')\n",
    "plt.xlabel('Likes per user')\n",
    "plt.ylabel('Count')\n",
    "\n",
    "plt.tight_layout()\n",
    "plt.show()\n"
   ]
  },
  {
   "cell_type": "code",
   "execution_count": 44,
   "id": "9d62b831-ad00-452c-884b-85099e35f6bb",
   "metadata": {},
   "outputs": [
    {
     "data": {
      "text/plain": [
       "count    29337.000000\n",
       "mean         4.000716\n",
       "std          3.256923\n",
       "min          1.000000\n",
       "25%          2.000000\n",
       "50%          3.000000\n",
       "75%          5.000000\n",
       "max         45.000000\n",
       "Name: likes_count, dtype: float64"
      ]
     },
     "execution_count": 44,
     "metadata": {},
     "output_type": "execute_result"
    }
   ],
   "source": [
    "likes_per_user_test.likes_count.describe()"
   ]
  },
  {
   "cell_type": "code",
   "execution_count": 45,
   "id": "07f59435-13d6-449a-8731-ed2d45016a66",
   "metadata": {},
   "outputs": [
    {
     "data": {
      "text/plain": [
       "count    28838.000000\n",
       "mean         3.913101\n",
       "std          3.139696\n",
       "min          1.000000\n",
       "25%          2.000000\n",
       "50%          3.000000\n",
       "75%          5.000000\n",
       "max         34.000000\n",
       "Name: likes_count, dtype: float64"
      ]
     },
     "execution_count": 45,
     "metadata": {},
     "output_type": "execute_result"
    }
   ],
   "source": [
    "likes_per_user_control.likes_count.describe()"
   ]
  },
  {
   "cell_type": "code",
   "execution_count": 46,
   "id": "438351fe-5929-4445-bf52-c584c3cf9d64",
   "metadata": {},
   "outputs": [
    {
     "data": {
      "image/png": "[encoded data removed]",
      "text/plain": [
       "<Figure size 864x360 with 2 Axes>"
      ]
     },
     "metadata": {
      "needs_background": "light"
     },
     "output_type": "display_data"
    },
    {
     "data": {
      "text/plain": [
       "((0.9422839879989624, 2.066564910263024e-40),\n",
       " (0.9400901198387146, 5.577588277552069e-41))"
      ]
     },
     "execution_count": 46,
     "metadata": {},
     "output_type": "execute_result"
    }
   ],
   "source": [
    "#Log-преобразование и t-test\n",
    "\n",
    "import pandas as pd\n",
    "import numpy as np\n",
    "import matplotlib.pyplot as plt\n",
    "import seaborn as sns\n",
    "from scipy.stats import shapiro\n",
    "\n",
    "\n",
    "log_test = np.log1p(likes_per_user_test['likes_count'])\n",
    "log_control = np.log1p(likes_per_user_control['likes_count'])\n",
    "\n",
    "shapiro_test_stat, shapiro_test_p = shapiro(log_test.sample(5000, random_state=42))\n",
    "shapiro_control_stat, shapiro_control_p = shapiro(log_control.sample(5000, random_state=42))\n",
    "\n",
    "\n",
    "plt.figure(figsize=(12, 5))\n",
    "\n",
    "plt.subplot(1, 2, 1)\n",
    "sns.histplot(log_control, bins=30, color='blue', kde=True)\n",
    "plt.title(\"Log(1 + likes) — Control group\")\n",
    "\n",
    "plt.subplot(1, 2, 2)\n",
    "sns.histplot(log_test, bins=30, color='green', kde=True)\n",
    "plt.title(\"Log(1 + likes) — Test group\")\n",
    "\n",
    "plt.tight_layout()\n",
    "plt.show()\n",
    "\n",
    "(shapiro_test_stat, shapiro_test_p), (shapiro_control_stat, shapiro_control_p)\n"
   ]
  },
  {
   "cell_type": "code",
   "execution_count": 43,
   "id": "725b3c76-a7ea-4396-aaab-f05ebd5f9032",
   "metadata": {},
   "outputs": [
    {
     "name": "stdout",
     "output_type": "stream",
     "text": [
      "Mann–Whitney U test: stat=429294691.00, p=0.0017\n"
     ]
    }
   ],
   "source": [
    "# Mann–Whitney U-тест — сравнение медиан\n",
    "from scipy.stats import mannwhitneyu\n",
    "\n",
    "stat, p = mannwhitneyu(\n",
    "    likes_per_user_test['likes_count'],\n",
    "    likes_per_user_control['likes_count'],\n",
    "    alternative='two-sided'\n",
    ")\n",
    "\n",
    "print(f\"Mann–Whitney U test: stat={stat:.2f}, p={p:.4f}\")\n"
   ]
  },
  {
   "cell_type": "markdown",
   "id": "6779ffed-7419-4275-bce3-f2684d39d7ed",
   "metadata": {},
   "source": [
    "## Расчёт основной метрики: HitRate@5\n",
    "**Цель:**\n",
    "Соотнести отображённые пользователю рекомендации с последующими лайками и вычислить долю показов, завершившихся хотя бы одним лайком — HitRate@5.\n",
    "\n",
    "**Подготовка данных:**\n",
    "Нумерация показов:\n",
    "Каждой записи с рекомендациями был присвоен уникальный show_number на основе позиции в датафрейме (recommendations.index).\n",
    "\n",
    "Разворачивание списка рекомендаций:\n",
    "Каждая пятёрка постов (из recommendations) была преобразована в отдельные строки, по одной рекомендации на строку — через .explode().\n",
    "\n",
    "**Соединение с лайками:**\n",
    "Таблица была соединена с лайками по user_id и post_id, чтобы найти совпадения.\n",
    "\n",
    "**Фильтрация по времени:**\n",
    "Считаем лайком только те действия, которые:\n",
    "- произошли после показа (timestamp_like >= timestamp_view);\n",
    "- произошли в течение часа после показа (< 1 час).\n",
    "\n",
    "**Агрегация:**\n",
    "Для каждого user_id и show_number агрегируем поле is_like и сохраняем максимум (1, если был хотя бы один лайк на 5 рекомендаций).\n",
    "\n",
    "HitRate@5 (Test)    = 0.7198  \n",
    "HitRate@5 (Control) = 0.7066\n",
    "\n"
   ]
  },
  {
   "cell_type": "code",
   "execution_count": 37,
   "id": "35fbc3ed-9b57-4880-ac38-1272061beecb",
   "metadata": {},
   "outputs": [
    {
     "data": {
      "text/plain": [
       "user_id             int64\n",
       "exp_group          object\n",
       "recommendations    object\n",
       "timestamp           int64\n",
       "dtype: object"
      ]
     },
     "execution_count": 37,
     "metadata": {},
     "output_type": "execute_result"
    }
   ],
   "source": [
    "recommendations.dtypes"
   ]
  },
  {
   "cell_type": "code",
   "execution_count": 38,
   "id": "dc95fbcd-459f-4cb7-9f89-9903634b9904",
   "metadata": {},
   "outputs": [],
   "source": [
    "recommendations['show_number'] = recommendations.index\n",
    "recommendations['recommendations'] = recommendations['recommendations'].apply(\n",
    "    lambda x: list(map(int, x.strip('[]').split()))\n",
    ")\n",
    "recommendations_exploded = recommendations.explode('recommendations').reset_index(drop=True)\n",
    "recommendations_exploded['timestamp'] = pd.to_datetime(recommendations_exploded['timestamp'], unit='s')\n",
    "recommendations_exploded = recommendations_exploded.rename(columns={'recommendations': 'post_id', 'timestamp': 'timestamp_view'})\n",
    "\n",
    "likes = likes.rename(columns={'timestamp': 'timestamp_like'})"
   ]
  },
  {
   "cell_type": "code",
   "execution_count": 39,
   "id": "72d2d7ad-1975-4b83-af0c-4d4b5e30f86a",
   "metadata": {},
   "outputs": [],
   "source": [
    "views_likes = recommendations_exploded.merge(likes, how='left', on = ['user_id', 'post_id'])"
   ]
  },
  {
   "cell_type": "code",
   "execution_count": 40,
   "id": "ba668e40-7497-43e5-8225-5de0ba65b4b4",
   "metadata": {},
   "outputs": [
    {
     "data": {
      "text/html": [
       "<div>\n",
       "<style scoped>\n",
       "    .dataframe tbody tr th:only-of-type {\n",
       "        vertical-align: middle;\n",
       "    }\n",
       "\n",
       "    .dataframe tbody tr th {\n",
       "        vertical-align: top;\n",
       "    }\n",
       "\n",
       "    .dataframe thead th {\n",
       "        text-align: right;\n",
       "    }\n",
       "</style>\n",
       "<table border=\"1\" class=\"dataframe\">\n",
       "  <thead>\n",
       "    <tr style=\"text-align: right;\">\n",
       "      <th></th>\n",
       "      <th>user_id</th>\n",
       "      <th>exp_group</th>\n",
       "      <th>post_id</th>\n",
       "      <th>timestamp_view</th>\n",
       "      <th>show_number</th>\n",
       "      <th>timestamp_like</th>\n",
       "      <th>time_before_like</th>\n",
       "    </tr>\n",
       "  </thead>\n",
       "  <tbody>\n",
       "    <tr>\n",
       "      <th>0</th>\n",
       "      <td>128381</td>\n",
       "      <td>control</td>\n",
       "      <td>3644</td>\n",
       "      <td>2022-05-31 21:00:03</td>\n",
       "      <td>0</td>\n",
       "      <td>NaT</td>\n",
       "      <td>NaT</td>\n",
       "    </tr>\n",
       "    <tr>\n",
       "      <th>1</th>\n",
       "      <td>128381</td>\n",
       "      <td>control</td>\n",
       "      <td>4529</td>\n",
       "      <td>2022-05-31 21:00:03</td>\n",
       "      <td>0</td>\n",
       "      <td>NaT</td>\n",
       "      <td>NaT</td>\n",
       "    </tr>\n",
       "    <tr>\n",
       "      <th>2</th>\n",
       "      <td>128381</td>\n",
       "      <td>control</td>\n",
       "      <td>4704</td>\n",
       "      <td>2022-05-31 21:00:03</td>\n",
       "      <td>0</td>\n",
       "      <td>2022-05-31 21:00:04</td>\n",
       "      <td>0 days 00:00:01</td>\n",
       "    </tr>\n",
       "    <tr>\n",
       "      <th>3</th>\n",
       "      <td>128381</td>\n",
       "      <td>control</td>\n",
       "      <td>5294</td>\n",
       "      <td>2022-05-31 21:00:03</td>\n",
       "      <td>0</td>\n",
       "      <td>2022-05-31 21:00:38</td>\n",
       "      <td>0 days 00:00:35</td>\n",
       "    </tr>\n",
       "    <tr>\n",
       "      <th>4</th>\n",
       "      <td>128381</td>\n",
       "      <td>control</td>\n",
       "      <td>4808</td>\n",
       "      <td>2022-05-31 21:00:03</td>\n",
       "      <td>0</td>\n",
       "      <td>NaT</td>\n",
       "      <td>NaT</td>\n",
       "    </tr>\n",
       "  </tbody>\n",
       "</table>\n",
       "</div>"
      ],
      "text/plain": [
       "   user_id exp_group post_id      timestamp_view  show_number  \\\n",
       "0   128381   control    3644 2022-05-31 21:00:03            0   \n",
       "1   128381   control    4529 2022-05-31 21:00:03            0   \n",
       "2   128381   control    4704 2022-05-31 21:00:03            0   \n",
       "3   128381   control    5294 2022-05-31 21:00:03            0   \n",
       "4   128381   control    4808 2022-05-31 21:00:03            0   \n",
       "\n",
       "       timestamp_like time_before_like  \n",
       "0                 NaT              NaT  \n",
       "1                 NaT              NaT  \n",
       "2 2022-05-31 21:00:04  0 days 00:00:01  \n",
       "3 2022-05-31 21:00:38  0 days 00:00:35  \n",
       "4                 NaT              NaT  "
      ]
     },
     "execution_count": 40,
     "metadata": {},
     "output_type": "execute_result"
    }
   ],
   "source": [
    "views_likes['timestamp_like'] = pd.to_datetime(views_likes['timestamp_like'], unit='s')\n",
    "views_likes['time_before_like'] = views_likes['timestamp_like'] - views_likes['timestamp_view']\n",
    "views_likes.head()"
   ]
  },
  {
   "cell_type": "code",
   "execution_count": 41,
   "id": "1215ca59-5d16-4fde-bb99-47d0b9f28869",
   "metadata": {},
   "outputs": [
    {
     "data": {
      "text/html": [
       "<div>\n",
       "<style scoped>\n",
       "    .dataframe tbody tr th:only-of-type {\n",
       "        vertical-align: middle;\n",
       "    }\n",
       "\n",
       "    .dataframe tbody tr th {\n",
       "        vertical-align: top;\n",
       "    }\n",
       "\n",
       "    .dataframe thead th {\n",
       "        text-align: right;\n",
       "    }\n",
       "</style>\n",
       "<table border=\"1\" class=\"dataframe\">\n",
       "  <thead>\n",
       "    <tr style=\"text-align: right;\">\n",
       "      <th></th>\n",
       "      <th>user_id</th>\n",
       "      <th>exp_group</th>\n",
       "      <th>post_id</th>\n",
       "      <th>timestamp_view</th>\n",
       "      <th>show_number</th>\n",
       "      <th>timestamp_like</th>\n",
       "      <th>time_before_like</th>\n",
       "      <th>is_like</th>\n",
       "    </tr>\n",
       "  </thead>\n",
       "  <tbody>\n",
       "    <tr>\n",
       "      <th>0</th>\n",
       "      <td>128381</td>\n",
       "      <td>control</td>\n",
       "      <td>3644</td>\n",
       "      <td>2022-05-31 21:00:03</td>\n",
       "      <td>0</td>\n",
       "      <td>NaT</td>\n",
       "      <td>NaT</td>\n",
       "      <td>0</td>\n",
       "    </tr>\n",
       "    <tr>\n",
       "      <th>1</th>\n",
       "      <td>128381</td>\n",
       "      <td>control</td>\n",
       "      <td>4529</td>\n",
       "      <td>2022-05-31 21:00:03</td>\n",
       "      <td>0</td>\n",
       "      <td>NaT</td>\n",
       "      <td>NaT</td>\n",
       "      <td>0</td>\n",
       "    </tr>\n",
       "    <tr>\n",
       "      <th>2</th>\n",
       "      <td>128381</td>\n",
       "      <td>control</td>\n",
       "      <td>4704</td>\n",
       "      <td>2022-05-31 21:00:03</td>\n",
       "      <td>0</td>\n",
       "      <td>2022-05-31 21:00:04</td>\n",
       "      <td>0 days 00:00:01</td>\n",
       "      <td>1</td>\n",
       "    </tr>\n",
       "    <tr>\n",
       "      <th>3</th>\n",
       "      <td>128381</td>\n",
       "      <td>control</td>\n",
       "      <td>5294</td>\n",
       "      <td>2022-05-31 21:00:03</td>\n",
       "      <td>0</td>\n",
       "      <td>2022-05-31 21:00:38</td>\n",
       "      <td>0 days 00:00:35</td>\n",
       "      <td>1</td>\n",
       "    </tr>\n",
       "    <tr>\n",
       "      <th>4</th>\n",
       "      <td>128381</td>\n",
       "      <td>control</td>\n",
       "      <td>4808</td>\n",
       "      <td>2022-05-31 21:00:03</td>\n",
       "      <td>0</td>\n",
       "      <td>NaT</td>\n",
       "      <td>NaT</td>\n",
       "      <td>0</td>\n",
       "    </tr>\n",
       "  </tbody>\n",
       "</table>\n",
       "</div>"
      ],
      "text/plain": [
       "   user_id exp_group post_id      timestamp_view  show_number  \\\n",
       "0   128381   control    3644 2022-05-31 21:00:03            0   \n",
       "1   128381   control    4529 2022-05-31 21:00:03            0   \n",
       "2   128381   control    4704 2022-05-31 21:00:03            0   \n",
       "3   128381   control    5294 2022-05-31 21:00:03            0   \n",
       "4   128381   control    4808 2022-05-31 21:00:03            0   \n",
       "\n",
       "       timestamp_like time_before_like  is_like  \n",
       "0                 NaT              NaT        0  \n",
       "1                 NaT              NaT        0  \n",
       "2 2022-05-31 21:00:04  0 days 00:00:01        1  \n",
       "3 2022-05-31 21:00:38  0 days 00:00:35        1  \n",
       "4                 NaT              NaT        0  "
      ]
     },
     "execution_count": 41,
     "metadata": {},
     "output_type": "execute_result"
    }
   ],
   "source": [
    "views_likes['is_like'] = (\n",
    "    (views_likes['time_before_like'] >= pd.Timedelta(0)) &\n",
    "    (views_likes['time_before_like'] < pd.Timedelta(hours=1))\n",
    ").astype(int)\n",
    "views_likes.head()"
   ]
  },
  {
   "cell_type": "code",
   "execution_count": 42,
   "id": "bfa47e2e-679e-469a-a09f-6996969e33d7",
   "metadata": {},
   "outputs": [],
   "source": [
    "exp_likes = views_likes.groupby(\n",
    "    ['user_id', 'exp_group', 'timestamp_view', 'show_number'], as_index=False\n",
    ").agg(has_like=('is_like', 'max'))\n"
   ]
  },
  {
   "cell_type": "code",
   "execution_count": 43,
   "id": "d0539d36-9206-452b-bcb6-fef0e2832e15",
   "metadata": {},
   "outputs": [
    {
     "name": "stdout",
     "output_type": "stream",
     "text": [
      "0.7198427520455648 0.7066550457573305\n"
     ]
    }
   ],
   "source": [
    "hitrate_test = exp_likes[exp_likes.exp_group == 'test'].has_like.sum() / exp_likes[exp_likes.exp_group == 'test'].has_like.count()\n",
    "hitrate_control = exp_likes[exp_likes.exp_group == 'control'].has_like.sum() / exp_likes[exp_likes.exp_group == 'control'].has_like.count()\n",
    "\n",
    "print(hitrate_test, hitrate_control)"
   ]
  },
  {
   "cell_type": "code",
   "execution_count": 44,
   "id": "7616668c-7377-462c-b78b-2e0356aa718f",
   "metadata": {},
   "outputs": [
    {
     "data": {
      "text/plain": [
       "True"
      ]
     },
     "execution_count": 44,
     "metadata": {},
     "output_type": "execute_result"
    }
   ],
   "source": [
    "exp_likes.shape == recommendations.shape"
   ]
  },
  {
   "cell_type": "code",
   "execution_count": 45,
   "id": "a5048490-c32d-4cba-9a54-f02a3d4c1769",
   "metadata": {},
   "outputs": [
    {
     "data": {
      "text/plain": [
       "(193295, 5)"
      ]
     },
     "execution_count": 45,
     "metadata": {},
     "output_type": "execute_result"
    }
   ],
   "source": [
    "exp_likes.shape"
   ]
  },
  {
   "cell_type": "markdown",
   "id": "2796e7ac-1af8-46e4-b545-033e4724aeae",
   "metadata": {},
   "source": [
    "## Бакетный анализ и сравнение hitrate\n",
    "\n",
    "Мы применили бакетизацию по show_number — уникальному идентификатору показа рекомендаций.   \n",
    "Каждую группу (control и test) мы разделили на 100 бакетов, а затем рассчитали среднее значение hitrate в каждом бакете.  \n",
    "\n",
    "Затем был применён t-тест (ttest_ind с equal_var=False) для сравнения средних hitrate по бакетам \n",
    "в тестовой и контрольной группе.\n",
    "\n",
    "**Результаты**  \n",
    "Средний hitrate по бакетам:\n",
    "\n",
    "Test: 0.7198\n",
    "\n",
    "Control: 0.7067\n",
    "\n",
    "Разница: +1.31 п.п. в пользу тестовой группы\n",
    "\n",
    "T-статистика: 6.8532\n",
    "\n",
    "P-значение: 9.1e-11\n",
    "\n",
    "**Вывод**  \n",
    "Результаты t-теста показывают, что разница между группами статистически значима (p-value ≪ 0.05). Это подтверждает, что добавление новых признаков (фичей из трансформера и LightGCN) в рекомендательную модель привело к улучшению качества рекомендаций по основной метрике — hitrate@5.\n",
    "\n",
    "Разница в +1.31 п.п. сопоставима с ожидаемым приростом по гипотезе (MDE = 1.2 п.п.) "
   ]
  },
  {
   "cell_type": "code",
   "execution_count": 46,
   "id": "64009411-7379-4e80-9d39-9f1584f92926",
   "metadata": {},
   "outputs": [
    {
     "name": "stdout",
     "output_type": "stream",
     "text": [
      "Средний hitrate по бакетам:\n",
      "Test: 0.7198\n",
      "Control: 0.7067\n"
     ]
    }
   ],
   "source": [
    "N_BUCKETS = 100\n",
    "\n",
    "exp_likes['bucket'] = exp_likes.groupby('exp_group', group_keys=False).apply(\n",
    "    lambda x: pd.qcut(x['show_number'], q=N_BUCKETS, labels=False)\n",
    ").reset_index(drop=True)\n",
    "\n",
    "bucket_stats = exp_likes.groupby(['exp_group', 'bucket'], as_index=False) \\\n",
    "    .agg(\n",
    "        hitrate=('has_like', 'mean'),\n",
    "        impressions=('has_like', 'count')\n",
    "    )\n",
    "\n",
    "hitrate_test_avg = bucket_stats[bucket_stats.exp_group == 'test']['hitrate'].mean()\n",
    "hitrate_control_avg = bucket_stats[bucket_stats.exp_group == 'control']['hitrate'].mean()\n",
    "\n",
    "print(f\"Средний hitrate по бакетам:\\nTest: {hitrate_test_avg:.4f}\\nControl: {hitrate_control_avg:.4f}\")\n"
   ]
  },
  {
   "cell_type": "code",
   "execution_count": 49,
   "id": "4aca65b6-dea0-4ae2-8b03-66174fda94ff",
   "metadata": {},
   "outputs": [
    {
     "name": "stdout",
     "output_type": "stream",
     "text": [
      "T-статистика: 6.8532\n",
      "P-значение: 0.00000000009121574751\n"
     ]
    }
   ],
   "source": [
    "from scipy.stats import ttest_ind\n",
    "\n",
    "test_buckets = bucket_stats[bucket_stats.exp_group == 'test']['hitrate']\n",
    "control_buckets = bucket_stats[bucket_stats.exp_group == 'control']['hitrate']\n",
    "\n",
    "t_stat, p_value = ttest_ind(test_buckets, control_buckets, equal_var=False)\n",
    "\n",
    "print(f\"T-статистика: {t_stat:.4f}\")\n",
    "print(f\"P-значение: {p_value:.20f}\")\n",
    "\n"
   ]
  },
  {
   "cell_type": "code",
   "execution_count": null,
   "id": "f0a4d57c-585b-4472-9c1f-d0f06a819307",
   "metadata": {},
   "outputs": [],
   "source": []
  }
 ],
 "metadata": {
  "kernelspec": {
   "display_name": "Python 3 (ipykernel)",
   "language": "python",
   "name": "python3"
  },
  "language_info": {
   "codemirror_mode": {
    "name": "ipython",
    "version": 3
   },
   "file_extension": ".py",
   "mimetype": "text/x-python",
   "name": "python",
   "nbconvert_exporter": "python",
   "pygments_lexer": "ipython3",
   "version": "3.8.10"
  }
 },
 "nbformat": 4,
 "nbformat_minor": 5
}
